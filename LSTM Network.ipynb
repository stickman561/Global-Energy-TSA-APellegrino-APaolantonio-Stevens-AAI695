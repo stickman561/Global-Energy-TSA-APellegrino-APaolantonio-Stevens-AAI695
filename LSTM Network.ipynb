{
 "cells": [
  {
   "cell_type": "markdown",
   "source": [
    "<font size=\"8\">Applied Machine Learning - Semester Project</font>\n",
    "<font size=\"6\">Code by Alexander M. Pellegrino</font>\n",
    "<font size=\"6\">Under Dr. Shucheng Yu</font>\n",
    "<font size=\"6\">On October 28th, 2023</font>"
   ],
   "metadata": {
    "collapsed": false
   },
   "id": "306e9f7be1048d51"
  },
  {
   "cell_type": "markdown",
   "source": [
    "<font size=\"6\">Section 1 - Initial Setup</font>\\\n",
    "<font size=\"4\">This section performs initial setup steps for TensorFlow and ensures that we're properly utilizing the GPU.</font>"
   ],
   "metadata": {
    "collapsed": false
   },
   "id": "122168aaab7eb154"
  },
  {
   "cell_type": "code",
   "execution_count": 10,
   "outputs": [
    {
     "name": "stdout",
     "output_type": "stream",
     "text": [
      "GPUs: 1\n"
     ]
    }
   ],
   "source": [
    "import os\n",
    "import numpy as np\n",
    "import pandas as pd\n",
    "import tensorflow as tf\n",
    "from tensorflow.keras import Sequential\n",
    "from tensorflow.keras.optimizers import Adam\n",
    "from tensorflow.keras.layers import Dense, LSTM\n",
    "\n",
    "# TensorFlow is verbose by default and will print dozens of\n",
    "# warnings on WSL2 environments despite being the official\n",
    "# platform for Windows hosts. (These are expected and can\n",
    "# be safely ignored, but tend to cover the actual target output.)\n",
    "os.environ['TF_CPP_MIN_LOG_LEVEL'] = '2'\n",
    "tf.get_logger().setLevel('ERROR')\n",
    "\n",
    "# OneDNN Optimizations can cause variance in numbers during\n",
    "# linux-to-windows floating-point representation conversion.\n",
    "os.environ['TF_ENABLE_ONEDNN_OPTS'] = '0'\n",
    "\n",
    "# Verify GPU learning works - this amount of data would take\n",
    "# an incredible amount of time to train on a consumer CPU.\n",
    "print(\"GPUs:\", len(tf.config.list_physical_devices('GPU')))"
   ],
   "metadata": {
    "collapsed": false,
    "ExecuteTime": {
     "end_time": "2023-12-16T00:46:15.971614700Z",
     "start_time": "2023-12-16T00:46:15.961464800Z"
    }
   },
   "id": "ca797eb0f93aea57"
  },
  {
   "cell_type": "markdown",
   "source": [
    "<font size=\"6\">Section 2 - Data Processing</font>\\\n",
    "<font size=\"4\">This section is responsible for reading the data from our csv file and properly formatting it to feed to Keras.</font>"
   ],
   "metadata": {
    "collapsed": false
   },
   "id": "cdfb1f081689ac19"
  },
  {
   "cell_type": "code",
   "execution_count": 11,
   "outputs": [
    {
     "data": {
      "text/plain": "                               Country              Features  \\\n0                              Algeria        net generation   \n1                               Angola        net generation   \n2                                Benin        net generation   \n3                             Botswana        net generation   \n4                         Burkina Faso        net generation   \n...                                ...                   ...   \n1605               Trinidad and Tobago  distribution losses    \n1606          Turks and Caicos Islands  distribution losses    \n1607               U.S. Virgin Islands  distribution losses    \n1608                           Uruguay  distribution losses    \n1609                         Venezuela  distribution losses    \n\n                       Region     1980     1981     1982     1983     1984  \\\n0                      Africa    6.683     7.65    8.824    9.615   10.537   \n1                      Africa    0.905    0.906    0.995    1.028    1.028   \n2                      Africa    0.005    0.005    0.005    0.005    0.005   \n3                      Africa    0.443    0.502    0.489    0.434    0.445   \n4                      Africa    0.098    0.108    0.115    0.117    0.113   \n...                       ...      ...      ...      ...      ...      ...   \n1605  Central & South America    0.244     0.21    0.152    0.326     0.36   \n1606  Central & South America  0.00035  0.00035  0.00035  0.00035  0.00035   \n1607  Central & South America  0.05243  0.05537  0.05607  0.05761  0.05789   \n1608  Central & South America     0.55    0.426    0.627    0.662     0.78   \n1609  Central & South America    5.145    3.597    6.113    6.623    5.386   \n\n         1985     1986  ...     2012     2013      2014      2015       2016  \\\n0      11.569   12.214  ...  53.9845  56.3134  60.39972  64.68244   66.75504   \n1       1.028    1.088  ...  6.03408  7.97606   9.21666   9.30914  10.203511   \n2       0.005    0.005  ...  0.04612  0.08848   0.22666   0.31056    0.26004   \n3       0.456    0.538  ...     0.33  0.86868   2.17628   2.79104    2.52984   \n4       0.115    0.122  ...  0.86834  0.98268   1.11808   1.43986     1.5509   \n...       ...      ...  ...      ...      ...       ...       ...        ...   \n1605    0.407    0.337  ...    0.239    0.234     0.245     0.248      0.253   \n1606  0.00035  0.00035  ...        0        0         0         0          0   \n1607  0.05922  0.06055  ...    0.063     0.06      0.06      0.06      0.065   \n1608    0.702    0.911  ...    1.292    1.282     1.253      1.49      1.608   \n1609    6.818    8.605  ...   25.113   25.627    42.699    40.381     33.543   \n\n           2017       2018       2019         2020         2021  \n0      71.49546   72.10903     76.685  72.73591277  77.53072719  \n1      10.67604   12.83194       15.4         16.6    16.429392  \n2        0.3115    0.19028     0.2017      0.22608   0.24109728  \n3        2.8438    2.97076     3.0469      2.05144   2.18234816  \n4       1.64602     1.6464    1.72552  1.647133174  1.761209666  \n...         ...        ...        ...          ...          ...  \n1605   0.274864   0.425807   0.424101     0.422757     0.422757  \n1606      0.014     0.0125     0.0125       0.0125   0.01277172  \n1607      0.065       0.05      0.051        0.051        0.051  \n1608   1.694491   1.557257   1.322331     1.129273     1.129273  \n1609  32.237348  30.982821  25.637959    23.099784  23.04704156  \n\n[1610 rows x 45 columns]",
      "text/html": "<div>\n<style scoped>\n    .dataframe tbody tr th:only-of-type {\n        vertical-align: middle;\n    }\n\n    .dataframe tbody tr th {\n        vertical-align: top;\n    }\n\n    .dataframe thead th {\n        text-align: right;\n    }\n</style>\n<table border=\"1\" class=\"dataframe\">\n  <thead>\n    <tr style=\"text-align: right;\">\n      <th></th>\n      <th>Country</th>\n      <th>Features</th>\n      <th>Region</th>\n      <th>1980</th>\n      <th>1981</th>\n      <th>1982</th>\n      <th>1983</th>\n      <th>1984</th>\n      <th>1985</th>\n      <th>1986</th>\n      <th>...</th>\n      <th>2012</th>\n      <th>2013</th>\n      <th>2014</th>\n      <th>2015</th>\n      <th>2016</th>\n      <th>2017</th>\n      <th>2018</th>\n      <th>2019</th>\n      <th>2020</th>\n      <th>2021</th>\n    </tr>\n  </thead>\n  <tbody>\n    <tr>\n      <th>0</th>\n      <td>Algeria</td>\n      <td>net generation</td>\n      <td>Africa</td>\n      <td>6.683</td>\n      <td>7.65</td>\n      <td>8.824</td>\n      <td>9.615</td>\n      <td>10.537</td>\n      <td>11.569</td>\n      <td>12.214</td>\n      <td>...</td>\n      <td>53.9845</td>\n      <td>56.3134</td>\n      <td>60.39972</td>\n      <td>64.68244</td>\n      <td>66.75504</td>\n      <td>71.49546</td>\n      <td>72.10903</td>\n      <td>76.685</td>\n      <td>72.73591277</td>\n      <td>77.53072719</td>\n    </tr>\n    <tr>\n      <th>1</th>\n      <td>Angola</td>\n      <td>net generation</td>\n      <td>Africa</td>\n      <td>0.905</td>\n      <td>0.906</td>\n      <td>0.995</td>\n      <td>1.028</td>\n      <td>1.028</td>\n      <td>1.028</td>\n      <td>1.088</td>\n      <td>...</td>\n      <td>6.03408</td>\n      <td>7.97606</td>\n      <td>9.21666</td>\n      <td>9.30914</td>\n      <td>10.203511</td>\n      <td>10.67604</td>\n      <td>12.83194</td>\n      <td>15.4</td>\n      <td>16.6</td>\n      <td>16.429392</td>\n    </tr>\n    <tr>\n      <th>2</th>\n      <td>Benin</td>\n      <td>net generation</td>\n      <td>Africa</td>\n      <td>0.005</td>\n      <td>0.005</td>\n      <td>0.005</td>\n      <td>0.005</td>\n      <td>0.005</td>\n      <td>0.005</td>\n      <td>0.005</td>\n      <td>...</td>\n      <td>0.04612</td>\n      <td>0.08848</td>\n      <td>0.22666</td>\n      <td>0.31056</td>\n      <td>0.26004</td>\n      <td>0.3115</td>\n      <td>0.19028</td>\n      <td>0.2017</td>\n      <td>0.22608</td>\n      <td>0.24109728</td>\n    </tr>\n    <tr>\n      <th>3</th>\n      <td>Botswana</td>\n      <td>net generation</td>\n      <td>Africa</td>\n      <td>0.443</td>\n      <td>0.502</td>\n      <td>0.489</td>\n      <td>0.434</td>\n      <td>0.445</td>\n      <td>0.456</td>\n      <td>0.538</td>\n      <td>...</td>\n      <td>0.33</td>\n      <td>0.86868</td>\n      <td>2.17628</td>\n      <td>2.79104</td>\n      <td>2.52984</td>\n      <td>2.8438</td>\n      <td>2.97076</td>\n      <td>3.0469</td>\n      <td>2.05144</td>\n      <td>2.18234816</td>\n    </tr>\n    <tr>\n      <th>4</th>\n      <td>Burkina Faso</td>\n      <td>net generation</td>\n      <td>Africa</td>\n      <td>0.098</td>\n      <td>0.108</td>\n      <td>0.115</td>\n      <td>0.117</td>\n      <td>0.113</td>\n      <td>0.115</td>\n      <td>0.122</td>\n      <td>...</td>\n      <td>0.86834</td>\n      <td>0.98268</td>\n      <td>1.11808</td>\n      <td>1.43986</td>\n      <td>1.5509</td>\n      <td>1.64602</td>\n      <td>1.6464</td>\n      <td>1.72552</td>\n      <td>1.647133174</td>\n      <td>1.761209666</td>\n    </tr>\n    <tr>\n      <th>...</th>\n      <td>...</td>\n      <td>...</td>\n      <td>...</td>\n      <td>...</td>\n      <td>...</td>\n      <td>...</td>\n      <td>...</td>\n      <td>...</td>\n      <td>...</td>\n      <td>...</td>\n      <td>...</td>\n      <td>...</td>\n      <td>...</td>\n      <td>...</td>\n      <td>...</td>\n      <td>...</td>\n      <td>...</td>\n      <td>...</td>\n      <td>...</td>\n      <td>...</td>\n      <td>...</td>\n    </tr>\n    <tr>\n      <th>1605</th>\n      <td>Trinidad and Tobago</td>\n      <td>distribution losses</td>\n      <td>Central &amp; South America</td>\n      <td>0.244</td>\n      <td>0.21</td>\n      <td>0.152</td>\n      <td>0.326</td>\n      <td>0.36</td>\n      <td>0.407</td>\n      <td>0.337</td>\n      <td>...</td>\n      <td>0.239</td>\n      <td>0.234</td>\n      <td>0.245</td>\n      <td>0.248</td>\n      <td>0.253</td>\n      <td>0.274864</td>\n      <td>0.425807</td>\n      <td>0.424101</td>\n      <td>0.422757</td>\n      <td>0.422757</td>\n    </tr>\n    <tr>\n      <th>1606</th>\n      <td>Turks and Caicos Islands</td>\n      <td>distribution losses</td>\n      <td>Central &amp; South America</td>\n      <td>0.00035</td>\n      <td>0.00035</td>\n      <td>0.00035</td>\n      <td>0.00035</td>\n      <td>0.00035</td>\n      <td>0.00035</td>\n      <td>0.00035</td>\n      <td>...</td>\n      <td>0</td>\n      <td>0</td>\n      <td>0</td>\n      <td>0</td>\n      <td>0</td>\n      <td>0.014</td>\n      <td>0.0125</td>\n      <td>0.0125</td>\n      <td>0.0125</td>\n      <td>0.01277172</td>\n    </tr>\n    <tr>\n      <th>1607</th>\n      <td>U.S. Virgin Islands</td>\n      <td>distribution losses</td>\n      <td>Central &amp; South America</td>\n      <td>0.05243</td>\n      <td>0.05537</td>\n      <td>0.05607</td>\n      <td>0.05761</td>\n      <td>0.05789</td>\n      <td>0.05922</td>\n      <td>0.06055</td>\n      <td>...</td>\n      <td>0.063</td>\n      <td>0.06</td>\n      <td>0.06</td>\n      <td>0.06</td>\n      <td>0.065</td>\n      <td>0.065</td>\n      <td>0.05</td>\n      <td>0.051</td>\n      <td>0.051</td>\n      <td>0.051</td>\n    </tr>\n    <tr>\n      <th>1608</th>\n      <td>Uruguay</td>\n      <td>distribution losses</td>\n      <td>Central &amp; South America</td>\n      <td>0.55</td>\n      <td>0.426</td>\n      <td>0.627</td>\n      <td>0.662</td>\n      <td>0.78</td>\n      <td>0.702</td>\n      <td>0.911</td>\n      <td>...</td>\n      <td>1.292</td>\n      <td>1.282</td>\n      <td>1.253</td>\n      <td>1.49</td>\n      <td>1.608</td>\n      <td>1.694491</td>\n      <td>1.557257</td>\n      <td>1.322331</td>\n      <td>1.129273</td>\n      <td>1.129273</td>\n    </tr>\n    <tr>\n      <th>1609</th>\n      <td>Venezuela</td>\n      <td>distribution losses</td>\n      <td>Central &amp; South America</td>\n      <td>5.145</td>\n      <td>3.597</td>\n      <td>6.113</td>\n      <td>6.623</td>\n      <td>5.386</td>\n      <td>6.818</td>\n      <td>8.605</td>\n      <td>...</td>\n      <td>25.113</td>\n      <td>25.627</td>\n      <td>42.699</td>\n      <td>40.381</td>\n      <td>33.543</td>\n      <td>32.237348</td>\n      <td>30.982821</td>\n      <td>25.637959</td>\n      <td>23.099784</td>\n      <td>23.04704156</td>\n    </tr>\n  </tbody>\n</table>\n<p>1610 rows × 45 columns</p>\n</div>"
     },
     "execution_count": 11,
     "metadata": {},
     "output_type": "execute_result"
    }
   ],
   "source": [
    "# Read data file\n",
    "full_frame = pd.read_csv(\"global_electricity_statistics.csv\")\n",
    "\n",
    "# Ensure file fully parsed correctly\n",
    "full_frame"
   ],
   "metadata": {
    "collapsed": false,
    "ExecuteTime": {
     "end_time": "2023-12-16T00:46:16.003777600Z",
     "start_time": "2023-12-16T00:46:15.984753300Z"
    }
   },
   "id": "36007a2a7a321273"
  },
  {
   "cell_type": "code",
   "execution_count": 12,
   "outputs": [
    {
     "data": {
      "text/plain": "                              Country         Features  \\\n230                           Algeria  net consumption   \n231                            Angola  net consumption   \n232                             Benin  net consumption   \n233                          Botswana  net consumption   \n234                      Burkina Faso  net consumption   \n..                                ...              ...   \n455               Trinidad and Tobago  net consumption   \n456          Turks and Caicos Islands  net consumption   \n457               U.S. Virgin Islands  net consumption   \n458                           Uruguay  net consumption   \n459                         Venezuela  net consumption   \n\n                      Region     1980     1981     1982     1983     1984  \\\n230                   Africa    5.915    6.713    7.733    8.207    8.959   \n231                   Africa    0.736    0.737    0.815    0.832     0.86   \n232                   Africa    0.101    0.115    0.155    0.155    0.137   \n233                   Africa  0.41199  0.47686  0.53677  0.56362  0.59985   \n234                   Africa  0.09114  0.10044  0.10695  0.10881  0.10509   \n..                       ...      ...      ...      ...      ...      ...   \n455  Central & South America    1.706    1.964    2.378     2.42     2.47   \n456  Central & South America  0.00465  0.00465  0.00465  0.00465  0.00465   \n457  Central & South America  0.69657  0.73563  0.74493  0.76539  0.76911   \n458  Central & South America    2.745    3.119    2.888    2.999    3.144   \n459  Central & South America   26.837   32.284   32.123   35.139   37.229   \n\n        1985     1986  ...      2012      2013      2014      2015      2016  \\\n230    9.686   10.343  ...   42.8675   45.2014  49.20572  53.45544  55.82304   \n231    0.826    0.886  ...   5.33508   7.05006   8.14866   8.23114  9.036511   \n232    0.142     0.14  ...   0.93312   0.93648   0.93366   1.08156   1.06104   \n233  0.64708  0.74034  ...     3.209   3.34768   3.60528   3.73004   3.61584   \n234  0.10695  0.11346  ...   1.24784   1.35648  1.431962   1.69966    1.9974   \n..       ...      ...  ...       ...       ...       ...       ...       ...   \n455    2.446    2.799  ...   8.34532   8.70094   8.61292    8.7491   8.60216   \n456  0.00465  0.00465  ...     0.197     0.196   0.21338   0.22466     0.235   \n457  0.78678  0.80445  ...  0.715801  0.667248  0.640179  0.632274   0.62233   \n458    3.145    3.282  ...   9.86876   9.97776  10.33684   10.7926  11.39642   \n459   39.397   39.753  ...   93.8783   95.1281  56.78606  77.84168  70.02136   \n\n          2017       2018       2019         2020         2021  \n230   60.28346   62.11403     66.646  63.69490277  68.66337919  \n231   9.468667  11.384079  13.658591    14.754764  14.56049071  \n232   1.125821   1.187964     0.9297      0.52408  0.523382994  \n233     3.5528   3.651212   4.162138      3.22213   3.35303816  \n234    2.06792     2.2648   2.651386  2.467133174  2.642688237  \n..         ...        ...        ...          ...          ...  \n455   8.490056   8.246993   8.213919  7.779031516  8.303561981  \n456   0.212164    0.23008   0.232618       0.2435   0.25976828  \n457    0.45824       0.56      0.568       0.5978    0.6415072  \n458  11.098889  11.768859  11.713604    11.780227  13.61377336  \n459  67.901917  65.258054  56.532821  70.47945808  71.04766385  \n\n[230 rows x 45 columns]",
      "text/html": "<div>\n<style scoped>\n    .dataframe tbody tr th:only-of-type {\n        vertical-align: middle;\n    }\n\n    .dataframe tbody tr th {\n        vertical-align: top;\n    }\n\n    .dataframe thead th {\n        text-align: right;\n    }\n</style>\n<table border=\"1\" class=\"dataframe\">\n  <thead>\n    <tr style=\"text-align: right;\">\n      <th></th>\n      <th>Country</th>\n      <th>Features</th>\n      <th>Region</th>\n      <th>1980</th>\n      <th>1981</th>\n      <th>1982</th>\n      <th>1983</th>\n      <th>1984</th>\n      <th>1985</th>\n      <th>1986</th>\n      <th>...</th>\n      <th>2012</th>\n      <th>2013</th>\n      <th>2014</th>\n      <th>2015</th>\n      <th>2016</th>\n      <th>2017</th>\n      <th>2018</th>\n      <th>2019</th>\n      <th>2020</th>\n      <th>2021</th>\n    </tr>\n  </thead>\n  <tbody>\n    <tr>\n      <th>230</th>\n      <td>Algeria</td>\n      <td>net consumption</td>\n      <td>Africa</td>\n      <td>5.915</td>\n      <td>6.713</td>\n      <td>7.733</td>\n      <td>8.207</td>\n      <td>8.959</td>\n      <td>9.686</td>\n      <td>10.343</td>\n      <td>...</td>\n      <td>42.8675</td>\n      <td>45.2014</td>\n      <td>49.20572</td>\n      <td>53.45544</td>\n      <td>55.82304</td>\n      <td>60.28346</td>\n      <td>62.11403</td>\n      <td>66.646</td>\n      <td>63.69490277</td>\n      <td>68.66337919</td>\n    </tr>\n    <tr>\n      <th>231</th>\n      <td>Angola</td>\n      <td>net consumption</td>\n      <td>Africa</td>\n      <td>0.736</td>\n      <td>0.737</td>\n      <td>0.815</td>\n      <td>0.832</td>\n      <td>0.86</td>\n      <td>0.826</td>\n      <td>0.886</td>\n      <td>...</td>\n      <td>5.33508</td>\n      <td>7.05006</td>\n      <td>8.14866</td>\n      <td>8.23114</td>\n      <td>9.036511</td>\n      <td>9.468667</td>\n      <td>11.384079</td>\n      <td>13.658591</td>\n      <td>14.754764</td>\n      <td>14.56049071</td>\n    </tr>\n    <tr>\n      <th>232</th>\n      <td>Benin</td>\n      <td>net consumption</td>\n      <td>Africa</td>\n      <td>0.101</td>\n      <td>0.115</td>\n      <td>0.155</td>\n      <td>0.155</td>\n      <td>0.137</td>\n      <td>0.142</td>\n      <td>0.14</td>\n      <td>...</td>\n      <td>0.93312</td>\n      <td>0.93648</td>\n      <td>0.93366</td>\n      <td>1.08156</td>\n      <td>1.06104</td>\n      <td>1.125821</td>\n      <td>1.187964</td>\n      <td>0.9297</td>\n      <td>0.52408</td>\n      <td>0.523382994</td>\n    </tr>\n    <tr>\n      <th>233</th>\n      <td>Botswana</td>\n      <td>net consumption</td>\n      <td>Africa</td>\n      <td>0.41199</td>\n      <td>0.47686</td>\n      <td>0.53677</td>\n      <td>0.56362</td>\n      <td>0.59985</td>\n      <td>0.64708</td>\n      <td>0.74034</td>\n      <td>...</td>\n      <td>3.209</td>\n      <td>3.34768</td>\n      <td>3.60528</td>\n      <td>3.73004</td>\n      <td>3.61584</td>\n      <td>3.5528</td>\n      <td>3.651212</td>\n      <td>4.162138</td>\n      <td>3.22213</td>\n      <td>3.35303816</td>\n    </tr>\n    <tr>\n      <th>234</th>\n      <td>Burkina Faso</td>\n      <td>net consumption</td>\n      <td>Africa</td>\n      <td>0.09114</td>\n      <td>0.10044</td>\n      <td>0.10695</td>\n      <td>0.10881</td>\n      <td>0.10509</td>\n      <td>0.10695</td>\n      <td>0.11346</td>\n      <td>...</td>\n      <td>1.24784</td>\n      <td>1.35648</td>\n      <td>1.431962</td>\n      <td>1.69966</td>\n      <td>1.9974</td>\n      <td>2.06792</td>\n      <td>2.2648</td>\n      <td>2.651386</td>\n      <td>2.467133174</td>\n      <td>2.642688237</td>\n    </tr>\n    <tr>\n      <th>...</th>\n      <td>...</td>\n      <td>...</td>\n      <td>...</td>\n      <td>...</td>\n      <td>...</td>\n      <td>...</td>\n      <td>...</td>\n      <td>...</td>\n      <td>...</td>\n      <td>...</td>\n      <td>...</td>\n      <td>...</td>\n      <td>...</td>\n      <td>...</td>\n      <td>...</td>\n      <td>...</td>\n      <td>...</td>\n      <td>...</td>\n      <td>...</td>\n      <td>...</td>\n      <td>...</td>\n    </tr>\n    <tr>\n      <th>455</th>\n      <td>Trinidad and Tobago</td>\n      <td>net consumption</td>\n      <td>Central &amp; South America</td>\n      <td>1.706</td>\n      <td>1.964</td>\n      <td>2.378</td>\n      <td>2.42</td>\n      <td>2.47</td>\n      <td>2.446</td>\n      <td>2.799</td>\n      <td>...</td>\n      <td>8.34532</td>\n      <td>8.70094</td>\n      <td>8.61292</td>\n      <td>8.7491</td>\n      <td>8.60216</td>\n      <td>8.490056</td>\n      <td>8.246993</td>\n      <td>8.213919</td>\n      <td>7.779031516</td>\n      <td>8.303561981</td>\n    </tr>\n    <tr>\n      <th>456</th>\n      <td>Turks and Caicos Islands</td>\n      <td>net consumption</td>\n      <td>Central &amp; South America</td>\n      <td>0.00465</td>\n      <td>0.00465</td>\n      <td>0.00465</td>\n      <td>0.00465</td>\n      <td>0.00465</td>\n      <td>0.00465</td>\n      <td>0.00465</td>\n      <td>...</td>\n      <td>0.197</td>\n      <td>0.196</td>\n      <td>0.21338</td>\n      <td>0.22466</td>\n      <td>0.235</td>\n      <td>0.212164</td>\n      <td>0.23008</td>\n      <td>0.232618</td>\n      <td>0.2435</td>\n      <td>0.25976828</td>\n    </tr>\n    <tr>\n      <th>457</th>\n      <td>U.S. Virgin Islands</td>\n      <td>net consumption</td>\n      <td>Central &amp; South America</td>\n      <td>0.69657</td>\n      <td>0.73563</td>\n      <td>0.74493</td>\n      <td>0.76539</td>\n      <td>0.76911</td>\n      <td>0.78678</td>\n      <td>0.80445</td>\n      <td>...</td>\n      <td>0.715801</td>\n      <td>0.667248</td>\n      <td>0.640179</td>\n      <td>0.632274</td>\n      <td>0.62233</td>\n      <td>0.45824</td>\n      <td>0.56</td>\n      <td>0.568</td>\n      <td>0.5978</td>\n      <td>0.6415072</td>\n    </tr>\n    <tr>\n      <th>458</th>\n      <td>Uruguay</td>\n      <td>net consumption</td>\n      <td>Central &amp; South America</td>\n      <td>2.745</td>\n      <td>3.119</td>\n      <td>2.888</td>\n      <td>2.999</td>\n      <td>3.144</td>\n      <td>3.145</td>\n      <td>3.282</td>\n      <td>...</td>\n      <td>9.86876</td>\n      <td>9.97776</td>\n      <td>10.33684</td>\n      <td>10.7926</td>\n      <td>11.39642</td>\n      <td>11.098889</td>\n      <td>11.768859</td>\n      <td>11.713604</td>\n      <td>11.780227</td>\n      <td>13.61377336</td>\n    </tr>\n    <tr>\n      <th>459</th>\n      <td>Venezuela</td>\n      <td>net consumption</td>\n      <td>Central &amp; South America</td>\n      <td>26.837</td>\n      <td>32.284</td>\n      <td>32.123</td>\n      <td>35.139</td>\n      <td>37.229</td>\n      <td>39.397</td>\n      <td>39.753</td>\n      <td>...</td>\n      <td>93.8783</td>\n      <td>95.1281</td>\n      <td>56.78606</td>\n      <td>77.84168</td>\n      <td>70.02136</td>\n      <td>67.901917</td>\n      <td>65.258054</td>\n      <td>56.532821</td>\n      <td>70.47945808</td>\n      <td>71.04766385</td>\n    </tr>\n  </tbody>\n</table>\n<p>230 rows × 45 columns</p>\n</div>"
     },
     "execution_count": 12,
     "metadata": {},
     "output_type": "execute_result"
    }
   ],
   "source": [
    "# Filtering to just usage statistics\n",
    "pruned_frame = full_frame[full_frame['Features'] == 'net consumption']\n",
    "\n",
    "pruned_frame"
   ],
   "metadata": {
    "collapsed": false,
    "ExecuteTime": {
     "end_time": "2023-12-16T00:46:16.003777600Z",
     "start_time": "2023-12-16T00:46:15.991888800Z"
    }
   },
   "id": "4d3d4a4c38597772"
  },
  {
   "cell_type": "code",
   "execution_count": 13,
   "outputs": [
    {
     "data": {
      "text/plain": "        1980     1981     1982     1983     1984     1985     1986     1987  \\\n230    5.915    6.713    7.733    8.207    8.959    9.686   10.343   11.119   \n231    0.736    0.737    0.815    0.832     0.86    0.826    0.886    0.894   \n232    0.101    0.115    0.155    0.155    0.137    0.142     0.14    0.135   \n233  0.41199  0.47686  0.53677  0.56362  0.59985  0.64708  0.74034  0.85878   \n234  0.09114  0.10044  0.10695  0.10881  0.10509  0.10695  0.11346  0.12369   \n..       ...      ...      ...      ...      ...      ...      ...      ...   \n455    1.706    1.964    2.378     2.42     2.47    2.446    2.799    2.949   \n456  0.00465  0.00465  0.00465  0.00465  0.00465  0.00465  0.00465  0.00465   \n457  0.69657  0.73563  0.74493  0.76539  0.76911  0.78678  0.80445  0.84165   \n458    2.745    3.119    2.888    2.999    3.144    3.145    3.282    3.464   \n459   26.837   32.284   32.123   35.139   37.229   39.397   39.753   42.965   \n\n        1988     1989  ...      2012      2013      2014      2015      2016  \\\n230   11.954    12.19  ...   42.8675   45.2014  49.20572  53.45544  55.82304   \n231    0.893    0.899  ...   5.33508   7.05006   8.14866   8.23114  9.036511   \n232    0.131     0.15  ...   0.93312   0.93648   0.93366   1.08156   1.06104   \n233    0.816  0.80621  ...     3.209   3.34768   3.60528   3.73004   3.61584   \n234  0.13299  0.14229  ...   1.24784   1.35648  1.431962   1.69966    1.9974   \n..       ...      ...  ...       ...       ...       ...       ...       ...   \n455    2.981    2.883  ...   8.34532   8.70094   8.61292    8.7491   8.60216   \n456  0.00465   0.0093  ...     0.197     0.196   0.21338   0.22466     0.235   \n457  0.84816  0.83049  ...  0.715801  0.667248  0.640179  0.632274   0.62233   \n458    3.722    3.601  ...   9.86876   9.97776  10.33684   10.7926  11.39642   \n459   47.087   46.132  ...   93.8783   95.1281  56.78606  77.84168  70.02136   \n\n          2017       2018       2019         2020         2021  \n230   60.28346   62.11403     66.646  63.69490277  68.66337919  \n231   9.468667  11.384079  13.658591    14.754764  14.56049071  \n232   1.125821   1.187964     0.9297      0.52408  0.523382994  \n233     3.5528   3.651212   4.162138      3.22213   3.35303816  \n234    2.06792     2.2648   2.651386  2.467133174  2.642688237  \n..         ...        ...        ...          ...          ...  \n455   8.490056   8.246993   8.213919  7.779031516  8.303561981  \n456   0.212164    0.23008   0.232618       0.2435   0.25976828  \n457    0.45824       0.56      0.568       0.5978    0.6415072  \n458  11.098889  11.768859  11.713604    11.780227  13.61377336  \n459  67.901917  65.258054  56.532821  70.47945808  71.04766385  \n\n[230 rows x 42 columns]",
      "text/html": "<div>\n<style scoped>\n    .dataframe tbody tr th:only-of-type {\n        vertical-align: middle;\n    }\n\n    .dataframe tbody tr th {\n        vertical-align: top;\n    }\n\n    .dataframe thead th {\n        text-align: right;\n    }\n</style>\n<table border=\"1\" class=\"dataframe\">\n  <thead>\n    <tr style=\"text-align: right;\">\n      <th></th>\n      <th>1980</th>\n      <th>1981</th>\n      <th>1982</th>\n      <th>1983</th>\n      <th>1984</th>\n      <th>1985</th>\n      <th>1986</th>\n      <th>1987</th>\n      <th>1988</th>\n      <th>1989</th>\n      <th>...</th>\n      <th>2012</th>\n      <th>2013</th>\n      <th>2014</th>\n      <th>2015</th>\n      <th>2016</th>\n      <th>2017</th>\n      <th>2018</th>\n      <th>2019</th>\n      <th>2020</th>\n      <th>2021</th>\n    </tr>\n  </thead>\n  <tbody>\n    <tr>\n      <th>230</th>\n      <td>5.915</td>\n      <td>6.713</td>\n      <td>7.733</td>\n      <td>8.207</td>\n      <td>8.959</td>\n      <td>9.686</td>\n      <td>10.343</td>\n      <td>11.119</td>\n      <td>11.954</td>\n      <td>12.19</td>\n      <td>...</td>\n      <td>42.8675</td>\n      <td>45.2014</td>\n      <td>49.20572</td>\n      <td>53.45544</td>\n      <td>55.82304</td>\n      <td>60.28346</td>\n      <td>62.11403</td>\n      <td>66.646</td>\n      <td>63.69490277</td>\n      <td>68.66337919</td>\n    </tr>\n    <tr>\n      <th>231</th>\n      <td>0.736</td>\n      <td>0.737</td>\n      <td>0.815</td>\n      <td>0.832</td>\n      <td>0.86</td>\n      <td>0.826</td>\n      <td>0.886</td>\n      <td>0.894</td>\n      <td>0.893</td>\n      <td>0.899</td>\n      <td>...</td>\n      <td>5.33508</td>\n      <td>7.05006</td>\n      <td>8.14866</td>\n      <td>8.23114</td>\n      <td>9.036511</td>\n      <td>9.468667</td>\n      <td>11.384079</td>\n      <td>13.658591</td>\n      <td>14.754764</td>\n      <td>14.56049071</td>\n    </tr>\n    <tr>\n      <th>232</th>\n      <td>0.101</td>\n      <td>0.115</td>\n      <td>0.155</td>\n      <td>0.155</td>\n      <td>0.137</td>\n      <td>0.142</td>\n      <td>0.14</td>\n      <td>0.135</td>\n      <td>0.131</td>\n      <td>0.15</td>\n      <td>...</td>\n      <td>0.93312</td>\n      <td>0.93648</td>\n      <td>0.93366</td>\n      <td>1.08156</td>\n      <td>1.06104</td>\n      <td>1.125821</td>\n      <td>1.187964</td>\n      <td>0.9297</td>\n      <td>0.52408</td>\n      <td>0.523382994</td>\n    </tr>\n    <tr>\n      <th>233</th>\n      <td>0.41199</td>\n      <td>0.47686</td>\n      <td>0.53677</td>\n      <td>0.56362</td>\n      <td>0.59985</td>\n      <td>0.64708</td>\n      <td>0.74034</td>\n      <td>0.85878</td>\n      <td>0.816</td>\n      <td>0.80621</td>\n      <td>...</td>\n      <td>3.209</td>\n      <td>3.34768</td>\n      <td>3.60528</td>\n      <td>3.73004</td>\n      <td>3.61584</td>\n      <td>3.5528</td>\n      <td>3.651212</td>\n      <td>4.162138</td>\n      <td>3.22213</td>\n      <td>3.35303816</td>\n    </tr>\n    <tr>\n      <th>234</th>\n      <td>0.09114</td>\n      <td>0.10044</td>\n      <td>0.10695</td>\n      <td>0.10881</td>\n      <td>0.10509</td>\n      <td>0.10695</td>\n      <td>0.11346</td>\n      <td>0.12369</td>\n      <td>0.13299</td>\n      <td>0.14229</td>\n      <td>...</td>\n      <td>1.24784</td>\n      <td>1.35648</td>\n      <td>1.431962</td>\n      <td>1.69966</td>\n      <td>1.9974</td>\n      <td>2.06792</td>\n      <td>2.2648</td>\n      <td>2.651386</td>\n      <td>2.467133174</td>\n      <td>2.642688237</td>\n    </tr>\n    <tr>\n      <th>...</th>\n      <td>...</td>\n      <td>...</td>\n      <td>...</td>\n      <td>...</td>\n      <td>...</td>\n      <td>...</td>\n      <td>...</td>\n      <td>...</td>\n      <td>...</td>\n      <td>...</td>\n      <td>...</td>\n      <td>...</td>\n      <td>...</td>\n      <td>...</td>\n      <td>...</td>\n      <td>...</td>\n      <td>...</td>\n      <td>...</td>\n      <td>...</td>\n      <td>...</td>\n      <td>...</td>\n    </tr>\n    <tr>\n      <th>455</th>\n      <td>1.706</td>\n      <td>1.964</td>\n      <td>2.378</td>\n      <td>2.42</td>\n      <td>2.47</td>\n      <td>2.446</td>\n      <td>2.799</td>\n      <td>2.949</td>\n      <td>2.981</td>\n      <td>2.883</td>\n      <td>...</td>\n      <td>8.34532</td>\n      <td>8.70094</td>\n      <td>8.61292</td>\n      <td>8.7491</td>\n      <td>8.60216</td>\n      <td>8.490056</td>\n      <td>8.246993</td>\n      <td>8.213919</td>\n      <td>7.779031516</td>\n      <td>8.303561981</td>\n    </tr>\n    <tr>\n      <th>456</th>\n      <td>0.00465</td>\n      <td>0.00465</td>\n      <td>0.00465</td>\n      <td>0.00465</td>\n      <td>0.00465</td>\n      <td>0.00465</td>\n      <td>0.00465</td>\n      <td>0.00465</td>\n      <td>0.00465</td>\n      <td>0.0093</td>\n      <td>...</td>\n      <td>0.197</td>\n      <td>0.196</td>\n      <td>0.21338</td>\n      <td>0.22466</td>\n      <td>0.235</td>\n      <td>0.212164</td>\n      <td>0.23008</td>\n      <td>0.232618</td>\n      <td>0.2435</td>\n      <td>0.25976828</td>\n    </tr>\n    <tr>\n      <th>457</th>\n      <td>0.69657</td>\n      <td>0.73563</td>\n      <td>0.74493</td>\n      <td>0.76539</td>\n      <td>0.76911</td>\n      <td>0.78678</td>\n      <td>0.80445</td>\n      <td>0.84165</td>\n      <td>0.84816</td>\n      <td>0.83049</td>\n      <td>...</td>\n      <td>0.715801</td>\n      <td>0.667248</td>\n      <td>0.640179</td>\n      <td>0.632274</td>\n      <td>0.62233</td>\n      <td>0.45824</td>\n      <td>0.56</td>\n      <td>0.568</td>\n      <td>0.5978</td>\n      <td>0.6415072</td>\n    </tr>\n    <tr>\n      <th>458</th>\n      <td>2.745</td>\n      <td>3.119</td>\n      <td>2.888</td>\n      <td>2.999</td>\n      <td>3.144</td>\n      <td>3.145</td>\n      <td>3.282</td>\n      <td>3.464</td>\n      <td>3.722</td>\n      <td>3.601</td>\n      <td>...</td>\n      <td>9.86876</td>\n      <td>9.97776</td>\n      <td>10.33684</td>\n      <td>10.7926</td>\n      <td>11.39642</td>\n      <td>11.098889</td>\n      <td>11.768859</td>\n      <td>11.713604</td>\n      <td>11.780227</td>\n      <td>13.61377336</td>\n    </tr>\n    <tr>\n      <th>459</th>\n      <td>26.837</td>\n      <td>32.284</td>\n      <td>32.123</td>\n      <td>35.139</td>\n      <td>37.229</td>\n      <td>39.397</td>\n      <td>39.753</td>\n      <td>42.965</td>\n      <td>47.087</td>\n      <td>46.132</td>\n      <td>...</td>\n      <td>93.8783</td>\n      <td>95.1281</td>\n      <td>56.78606</td>\n      <td>77.84168</td>\n      <td>70.02136</td>\n      <td>67.901917</td>\n      <td>65.258054</td>\n      <td>56.532821</td>\n      <td>70.47945808</td>\n      <td>71.04766385</td>\n    </tr>\n  </tbody>\n</table>\n<p>230 rows × 42 columns</p>\n</div>"
     },
     "execution_count": 13,
     "metadata": {},
     "output_type": "execute_result"
    }
   ],
   "source": [
    "# Drop unused columns\n",
    "pruned_frame = pruned_frame.drop([\"Country\", \"Features\", \"Region\"], axis='columns')\n",
    "\n",
    "pruned_frame"
   ],
   "metadata": {
    "collapsed": false,
    "ExecuteTime": {
     "end_time": "2023-12-16T00:46:16.003777600Z",
     "start_time": "2023-12-16T00:46:15.999567200Z"
    }
   },
   "id": "53c63654b3942822"
  },
  {
   "cell_type": "code",
   "execution_count": 14,
   "outputs": [
    {
     "data": {
      "text/plain": "        1980     1981     1982     1983     1984     1985     1986     1987  \\\n230    5.915    6.713    7.733    8.207    8.959    9.686   10.343   11.119   \n231    0.736    0.737    0.815    0.832     0.86    0.826    0.886    0.894   \n232    0.101    0.115    0.155    0.155    0.137    0.142     0.14    0.135   \n233  0.41199  0.47686  0.53677  0.56362  0.59985  0.64708  0.74034  0.85878   \n234  0.09114  0.10044  0.10695  0.10881  0.10509  0.10695  0.11346  0.12369   \n..       ...      ...      ...      ...      ...      ...      ...      ...   \n455    1.706    1.964    2.378     2.42     2.47    2.446    2.799    2.949   \n456  0.00465  0.00465  0.00465  0.00465  0.00465  0.00465  0.00465  0.00465   \n457  0.69657  0.73563  0.74493  0.76539  0.76911  0.78678  0.80445  0.84165   \n458    2.745    3.119    2.888    2.999    3.144    3.145    3.282    3.464   \n459   26.837   32.284   32.123   35.139   37.229   39.397   39.753   42.965   \n\n        1988     1989  ...      2012      2013      2014      2015      2016  \\\n230   11.954    12.19  ...   42.8675   45.2014  49.20572  53.45544  55.82304   \n231    0.893    0.899  ...   5.33508   7.05006   8.14866   8.23114  9.036511   \n232    0.131     0.15  ...   0.93312   0.93648   0.93366   1.08156   1.06104   \n233    0.816  0.80621  ...     3.209   3.34768   3.60528   3.73004   3.61584   \n234  0.13299  0.14229  ...   1.24784   1.35648  1.431962   1.69966    1.9974   \n..       ...      ...  ...       ...       ...       ...       ...       ...   \n455    2.981    2.883  ...   8.34532   8.70094   8.61292    8.7491   8.60216   \n456  0.00465   0.0093  ...     0.197     0.196   0.21338   0.22466     0.235   \n457  0.84816  0.83049  ...  0.715801  0.667248  0.640179  0.632274   0.62233   \n458    3.722    3.601  ...   9.86876   9.97776  10.33684   10.7926  11.39642   \n459   47.087   46.132  ...   93.8783   95.1281  56.78606  77.84168  70.02136   \n\n          2017       2018       2019         2020         2021  \n230   60.28346   62.11403     66.646  63.69490277  68.66337919  \n231   9.468667  11.384079  13.658591    14.754764  14.56049071  \n232   1.125821   1.187964     0.9297      0.52408  0.523382994  \n233     3.5528   3.651212   4.162138      3.22213   3.35303816  \n234    2.06792     2.2648   2.651386  2.467133174  2.642688237  \n..         ...        ...        ...          ...          ...  \n455   8.490056   8.246993   8.213919  7.779031516  8.303561981  \n456   0.212164    0.23008   0.232618       0.2435   0.25976828  \n457    0.45824       0.56      0.568       0.5978    0.6415072  \n458  11.098889  11.768859  11.713604    11.780227  13.61377336  \n459  67.901917  65.258054  56.532821  70.47945808  71.04766385  \n\n[230 rows x 42 columns]",
      "text/html": "<div>\n<style scoped>\n    .dataframe tbody tr th:only-of-type {\n        vertical-align: middle;\n    }\n\n    .dataframe tbody tr th {\n        vertical-align: top;\n    }\n\n    .dataframe thead th {\n        text-align: right;\n    }\n</style>\n<table border=\"1\" class=\"dataframe\">\n  <thead>\n    <tr style=\"text-align: right;\">\n      <th></th>\n      <th>1980</th>\n      <th>1981</th>\n      <th>1982</th>\n      <th>1983</th>\n      <th>1984</th>\n      <th>1985</th>\n      <th>1986</th>\n      <th>1987</th>\n      <th>1988</th>\n      <th>1989</th>\n      <th>...</th>\n      <th>2012</th>\n      <th>2013</th>\n      <th>2014</th>\n      <th>2015</th>\n      <th>2016</th>\n      <th>2017</th>\n      <th>2018</th>\n      <th>2019</th>\n      <th>2020</th>\n      <th>2021</th>\n    </tr>\n  </thead>\n  <tbody>\n    <tr>\n      <th>230</th>\n      <td>5.915</td>\n      <td>6.713</td>\n      <td>7.733</td>\n      <td>8.207</td>\n      <td>8.959</td>\n      <td>9.686</td>\n      <td>10.343</td>\n      <td>11.119</td>\n      <td>11.954</td>\n      <td>12.19</td>\n      <td>...</td>\n      <td>42.8675</td>\n      <td>45.2014</td>\n      <td>49.20572</td>\n      <td>53.45544</td>\n      <td>55.82304</td>\n      <td>60.28346</td>\n      <td>62.11403</td>\n      <td>66.646</td>\n      <td>63.69490277</td>\n      <td>68.66337919</td>\n    </tr>\n    <tr>\n      <th>231</th>\n      <td>0.736</td>\n      <td>0.737</td>\n      <td>0.815</td>\n      <td>0.832</td>\n      <td>0.86</td>\n      <td>0.826</td>\n      <td>0.886</td>\n      <td>0.894</td>\n      <td>0.893</td>\n      <td>0.899</td>\n      <td>...</td>\n      <td>5.33508</td>\n      <td>7.05006</td>\n      <td>8.14866</td>\n      <td>8.23114</td>\n      <td>9.036511</td>\n      <td>9.468667</td>\n      <td>11.384079</td>\n      <td>13.658591</td>\n      <td>14.754764</td>\n      <td>14.56049071</td>\n    </tr>\n    <tr>\n      <th>232</th>\n      <td>0.101</td>\n      <td>0.115</td>\n      <td>0.155</td>\n      <td>0.155</td>\n      <td>0.137</td>\n      <td>0.142</td>\n      <td>0.14</td>\n      <td>0.135</td>\n      <td>0.131</td>\n      <td>0.15</td>\n      <td>...</td>\n      <td>0.93312</td>\n      <td>0.93648</td>\n      <td>0.93366</td>\n      <td>1.08156</td>\n      <td>1.06104</td>\n      <td>1.125821</td>\n      <td>1.187964</td>\n      <td>0.9297</td>\n      <td>0.52408</td>\n      <td>0.523382994</td>\n    </tr>\n    <tr>\n      <th>233</th>\n      <td>0.41199</td>\n      <td>0.47686</td>\n      <td>0.53677</td>\n      <td>0.56362</td>\n      <td>0.59985</td>\n      <td>0.64708</td>\n      <td>0.74034</td>\n      <td>0.85878</td>\n      <td>0.816</td>\n      <td>0.80621</td>\n      <td>...</td>\n      <td>3.209</td>\n      <td>3.34768</td>\n      <td>3.60528</td>\n      <td>3.73004</td>\n      <td>3.61584</td>\n      <td>3.5528</td>\n      <td>3.651212</td>\n      <td>4.162138</td>\n      <td>3.22213</td>\n      <td>3.35303816</td>\n    </tr>\n    <tr>\n      <th>234</th>\n      <td>0.09114</td>\n      <td>0.10044</td>\n      <td>0.10695</td>\n      <td>0.10881</td>\n      <td>0.10509</td>\n      <td>0.10695</td>\n      <td>0.11346</td>\n      <td>0.12369</td>\n      <td>0.13299</td>\n      <td>0.14229</td>\n      <td>...</td>\n      <td>1.24784</td>\n      <td>1.35648</td>\n      <td>1.431962</td>\n      <td>1.69966</td>\n      <td>1.9974</td>\n      <td>2.06792</td>\n      <td>2.2648</td>\n      <td>2.651386</td>\n      <td>2.467133174</td>\n      <td>2.642688237</td>\n    </tr>\n    <tr>\n      <th>...</th>\n      <td>...</td>\n      <td>...</td>\n      <td>...</td>\n      <td>...</td>\n      <td>...</td>\n      <td>...</td>\n      <td>...</td>\n      <td>...</td>\n      <td>...</td>\n      <td>...</td>\n      <td>...</td>\n      <td>...</td>\n      <td>...</td>\n      <td>...</td>\n      <td>...</td>\n      <td>...</td>\n      <td>...</td>\n      <td>...</td>\n      <td>...</td>\n      <td>...</td>\n      <td>...</td>\n    </tr>\n    <tr>\n      <th>455</th>\n      <td>1.706</td>\n      <td>1.964</td>\n      <td>2.378</td>\n      <td>2.42</td>\n      <td>2.47</td>\n      <td>2.446</td>\n      <td>2.799</td>\n      <td>2.949</td>\n      <td>2.981</td>\n      <td>2.883</td>\n      <td>...</td>\n      <td>8.34532</td>\n      <td>8.70094</td>\n      <td>8.61292</td>\n      <td>8.7491</td>\n      <td>8.60216</td>\n      <td>8.490056</td>\n      <td>8.246993</td>\n      <td>8.213919</td>\n      <td>7.779031516</td>\n      <td>8.303561981</td>\n    </tr>\n    <tr>\n      <th>456</th>\n      <td>0.00465</td>\n      <td>0.00465</td>\n      <td>0.00465</td>\n      <td>0.00465</td>\n      <td>0.00465</td>\n      <td>0.00465</td>\n      <td>0.00465</td>\n      <td>0.00465</td>\n      <td>0.00465</td>\n      <td>0.0093</td>\n      <td>...</td>\n      <td>0.197</td>\n      <td>0.196</td>\n      <td>0.21338</td>\n      <td>0.22466</td>\n      <td>0.235</td>\n      <td>0.212164</td>\n      <td>0.23008</td>\n      <td>0.232618</td>\n      <td>0.2435</td>\n      <td>0.25976828</td>\n    </tr>\n    <tr>\n      <th>457</th>\n      <td>0.69657</td>\n      <td>0.73563</td>\n      <td>0.74493</td>\n      <td>0.76539</td>\n      <td>0.76911</td>\n      <td>0.78678</td>\n      <td>0.80445</td>\n      <td>0.84165</td>\n      <td>0.84816</td>\n      <td>0.83049</td>\n      <td>...</td>\n      <td>0.715801</td>\n      <td>0.667248</td>\n      <td>0.640179</td>\n      <td>0.632274</td>\n      <td>0.62233</td>\n      <td>0.45824</td>\n      <td>0.56</td>\n      <td>0.568</td>\n      <td>0.5978</td>\n      <td>0.6415072</td>\n    </tr>\n    <tr>\n      <th>458</th>\n      <td>2.745</td>\n      <td>3.119</td>\n      <td>2.888</td>\n      <td>2.999</td>\n      <td>3.144</td>\n      <td>3.145</td>\n      <td>3.282</td>\n      <td>3.464</td>\n      <td>3.722</td>\n      <td>3.601</td>\n      <td>...</td>\n      <td>9.86876</td>\n      <td>9.97776</td>\n      <td>10.33684</td>\n      <td>10.7926</td>\n      <td>11.39642</td>\n      <td>11.098889</td>\n      <td>11.768859</td>\n      <td>11.713604</td>\n      <td>11.780227</td>\n      <td>13.61377336</td>\n    </tr>\n    <tr>\n      <th>459</th>\n      <td>26.837</td>\n      <td>32.284</td>\n      <td>32.123</td>\n      <td>35.139</td>\n      <td>37.229</td>\n      <td>39.397</td>\n      <td>39.753</td>\n      <td>42.965</td>\n      <td>47.087</td>\n      <td>46.132</td>\n      <td>...</td>\n      <td>93.8783</td>\n      <td>95.1281</td>\n      <td>56.78606</td>\n      <td>77.84168</td>\n      <td>70.02136</td>\n      <td>67.901917</td>\n      <td>65.258054</td>\n      <td>56.532821</td>\n      <td>70.47945808</td>\n      <td>71.04766385</td>\n    </tr>\n  </tbody>\n</table>\n<p>230 rows × 42 columns</p>\n</div>"
     },
     "execution_count": 14,
     "metadata": {},
     "output_type": "execute_result"
    }
   ],
   "source": [
    "# Countries without a power consumption listed typically\n",
    "# didn't have an energy grid at that time or were incredibly\n",
    "# remote. We can fairly safely assume their consumption to\n",
    "# be 0 in those cases, at least relative to a global scale.\n",
    "\n",
    "# Indicator for \"surveyed, no power grid\"\n",
    "pruned_frame.replace(\"--\", 0, inplace=True)\n",
    "pruned_frame.replace(\"ie\", 0, inplace=True)\n",
    "\n",
    "pruned_frame"
   ],
   "metadata": {
    "collapsed": false,
    "ExecuteTime": {
     "end_time": "2023-12-16T00:46:16.032250100Z",
     "start_time": "2023-12-16T00:46:16.002760Z"
    }
   },
   "id": "f019a38493d33330"
  },
  {
   "cell_type": "code",
   "execution_count": 15,
   "outputs": [
    {
     "data": {
      "text/plain": "         1980      1981      1982      1983      1984      1985      1986  \\\n230   5.91500   6.71300   7.73300   8.20700   8.95900   9.68600  10.34300   \n231   0.73600   0.73700   0.81500   0.83200   0.86000   0.82600   0.88600   \n232   0.10100   0.11500   0.15500   0.15500   0.13700   0.14200   0.14000   \n233   0.41199   0.47686   0.53677   0.56362   0.59985   0.64708   0.74034   \n234   0.09114   0.10044   0.10695   0.10881   0.10509   0.10695   0.11346   \n..        ...       ...       ...       ...       ...       ...       ...   \n455   1.70600   1.96400   2.37800   2.42000   2.47000   2.44600   2.79900   \n456   0.00465   0.00465   0.00465   0.00465   0.00465   0.00465   0.00465   \n457   0.69657   0.73563   0.74493   0.76539   0.76911   0.78678   0.80445   \n458   2.74500   3.11900   2.88800   2.99900   3.14400   3.14500   3.28200   \n459  26.83700  32.28400  32.12300  35.13900  37.22900  39.39700  39.75300   \n\n         1987      1988      1989  ...       2012       2013       2014  \\\n230  11.11900  11.95400  12.19000  ...  42.867500  45.201400  49.205720   \n231   0.89400   0.89300   0.89900  ...   5.335080   7.050060   8.148660   \n232   0.13500   0.13100   0.15000  ...   0.933120   0.936480   0.933660   \n233   0.85878   0.81600   0.80621  ...   3.209000   3.347680   3.605280   \n234   0.12369   0.13299   0.14229  ...   1.247840   1.356480   1.431962   \n..        ...       ...       ...  ...        ...        ...        ...   \n455   2.94900   2.98100   2.88300  ...   8.345320   8.700940   8.612920   \n456   0.00465   0.00465   0.00930  ...   0.197000   0.196000   0.213380   \n457   0.84165   0.84816   0.83049  ...   0.715801   0.667248   0.640179   \n458   3.46400   3.72200   3.60100  ...   9.868760   9.977760  10.336840   \n459  42.96500  47.08700  46.13200  ...  93.878300  95.128100  56.786060   \n\n          2015       2016       2017       2018       2019       2020  \\\n230  53.455440  55.823040  60.283460  62.114030  66.646000  63.694903   \n231   8.231140   9.036511   9.468667  11.384079  13.658591  14.754764   \n232   1.081560   1.061040   1.125821   1.187964   0.929700   0.524080   \n233   3.730040   3.615840   3.552800   3.651212   4.162138   3.222130   \n234   1.699660   1.997400   2.067920   2.264800   2.651386   2.467133   \n..         ...        ...        ...        ...        ...        ...   \n455   8.749100   8.602160   8.490056   8.246993   8.213919   7.779032   \n456   0.224660   0.235000   0.212164   0.230080   0.232618   0.243500   \n457   0.632274   0.622330   0.458240   0.560000   0.568000   0.597800   \n458  10.792600  11.396420  11.098889  11.768859  11.713604  11.780227   \n459  77.841680  70.021360  67.901917  65.258054  56.532821  70.479458   \n\n          2021  \n230  68.663379  \n231  14.560491  \n232   0.523383  \n233   3.353038  \n234   2.642688  \n..         ...  \n455   8.303562  \n456   0.259768  \n457   0.641507  \n458  13.613773  \n459  71.047664  \n\n[230 rows x 42 columns]",
      "text/html": "<div>\n<style scoped>\n    .dataframe tbody tr th:only-of-type {\n        vertical-align: middle;\n    }\n\n    .dataframe tbody tr th {\n        vertical-align: top;\n    }\n\n    .dataframe thead th {\n        text-align: right;\n    }\n</style>\n<table border=\"1\" class=\"dataframe\">\n  <thead>\n    <tr style=\"text-align: right;\">\n      <th></th>\n      <th>1980</th>\n      <th>1981</th>\n      <th>1982</th>\n      <th>1983</th>\n      <th>1984</th>\n      <th>1985</th>\n      <th>1986</th>\n      <th>1987</th>\n      <th>1988</th>\n      <th>1989</th>\n      <th>...</th>\n      <th>2012</th>\n      <th>2013</th>\n      <th>2014</th>\n      <th>2015</th>\n      <th>2016</th>\n      <th>2017</th>\n      <th>2018</th>\n      <th>2019</th>\n      <th>2020</th>\n      <th>2021</th>\n    </tr>\n  </thead>\n  <tbody>\n    <tr>\n      <th>230</th>\n      <td>5.91500</td>\n      <td>6.71300</td>\n      <td>7.73300</td>\n      <td>8.20700</td>\n      <td>8.95900</td>\n      <td>9.68600</td>\n      <td>10.34300</td>\n      <td>11.11900</td>\n      <td>11.95400</td>\n      <td>12.19000</td>\n      <td>...</td>\n      <td>42.867500</td>\n      <td>45.201400</td>\n      <td>49.205720</td>\n      <td>53.455440</td>\n      <td>55.823040</td>\n      <td>60.283460</td>\n      <td>62.114030</td>\n      <td>66.646000</td>\n      <td>63.694903</td>\n      <td>68.663379</td>\n    </tr>\n    <tr>\n      <th>231</th>\n      <td>0.73600</td>\n      <td>0.73700</td>\n      <td>0.81500</td>\n      <td>0.83200</td>\n      <td>0.86000</td>\n      <td>0.82600</td>\n      <td>0.88600</td>\n      <td>0.89400</td>\n      <td>0.89300</td>\n      <td>0.89900</td>\n      <td>...</td>\n      <td>5.335080</td>\n      <td>7.050060</td>\n      <td>8.148660</td>\n      <td>8.231140</td>\n      <td>9.036511</td>\n      <td>9.468667</td>\n      <td>11.384079</td>\n      <td>13.658591</td>\n      <td>14.754764</td>\n      <td>14.560491</td>\n    </tr>\n    <tr>\n      <th>232</th>\n      <td>0.10100</td>\n      <td>0.11500</td>\n      <td>0.15500</td>\n      <td>0.15500</td>\n      <td>0.13700</td>\n      <td>0.14200</td>\n      <td>0.14000</td>\n      <td>0.13500</td>\n      <td>0.13100</td>\n      <td>0.15000</td>\n      <td>...</td>\n      <td>0.933120</td>\n      <td>0.936480</td>\n      <td>0.933660</td>\n      <td>1.081560</td>\n      <td>1.061040</td>\n      <td>1.125821</td>\n      <td>1.187964</td>\n      <td>0.929700</td>\n      <td>0.524080</td>\n      <td>0.523383</td>\n    </tr>\n    <tr>\n      <th>233</th>\n      <td>0.41199</td>\n      <td>0.47686</td>\n      <td>0.53677</td>\n      <td>0.56362</td>\n      <td>0.59985</td>\n      <td>0.64708</td>\n      <td>0.74034</td>\n      <td>0.85878</td>\n      <td>0.81600</td>\n      <td>0.80621</td>\n      <td>...</td>\n      <td>3.209000</td>\n      <td>3.347680</td>\n      <td>3.605280</td>\n      <td>3.730040</td>\n      <td>3.615840</td>\n      <td>3.552800</td>\n      <td>3.651212</td>\n      <td>4.162138</td>\n      <td>3.222130</td>\n      <td>3.353038</td>\n    </tr>\n    <tr>\n      <th>234</th>\n      <td>0.09114</td>\n      <td>0.10044</td>\n      <td>0.10695</td>\n      <td>0.10881</td>\n      <td>0.10509</td>\n      <td>0.10695</td>\n      <td>0.11346</td>\n      <td>0.12369</td>\n      <td>0.13299</td>\n      <td>0.14229</td>\n      <td>...</td>\n      <td>1.247840</td>\n      <td>1.356480</td>\n      <td>1.431962</td>\n      <td>1.699660</td>\n      <td>1.997400</td>\n      <td>2.067920</td>\n      <td>2.264800</td>\n      <td>2.651386</td>\n      <td>2.467133</td>\n      <td>2.642688</td>\n    </tr>\n    <tr>\n      <th>...</th>\n      <td>...</td>\n      <td>...</td>\n      <td>...</td>\n      <td>...</td>\n      <td>...</td>\n      <td>...</td>\n      <td>...</td>\n      <td>...</td>\n      <td>...</td>\n      <td>...</td>\n      <td>...</td>\n      <td>...</td>\n      <td>...</td>\n      <td>...</td>\n      <td>...</td>\n      <td>...</td>\n      <td>...</td>\n      <td>...</td>\n      <td>...</td>\n      <td>...</td>\n      <td>...</td>\n    </tr>\n    <tr>\n      <th>455</th>\n      <td>1.70600</td>\n      <td>1.96400</td>\n      <td>2.37800</td>\n      <td>2.42000</td>\n      <td>2.47000</td>\n      <td>2.44600</td>\n      <td>2.79900</td>\n      <td>2.94900</td>\n      <td>2.98100</td>\n      <td>2.88300</td>\n      <td>...</td>\n      <td>8.345320</td>\n      <td>8.700940</td>\n      <td>8.612920</td>\n      <td>8.749100</td>\n      <td>8.602160</td>\n      <td>8.490056</td>\n      <td>8.246993</td>\n      <td>8.213919</td>\n      <td>7.779032</td>\n      <td>8.303562</td>\n    </tr>\n    <tr>\n      <th>456</th>\n      <td>0.00465</td>\n      <td>0.00465</td>\n      <td>0.00465</td>\n      <td>0.00465</td>\n      <td>0.00465</td>\n      <td>0.00465</td>\n      <td>0.00465</td>\n      <td>0.00465</td>\n      <td>0.00465</td>\n      <td>0.00930</td>\n      <td>...</td>\n      <td>0.197000</td>\n      <td>0.196000</td>\n      <td>0.213380</td>\n      <td>0.224660</td>\n      <td>0.235000</td>\n      <td>0.212164</td>\n      <td>0.230080</td>\n      <td>0.232618</td>\n      <td>0.243500</td>\n      <td>0.259768</td>\n    </tr>\n    <tr>\n      <th>457</th>\n      <td>0.69657</td>\n      <td>0.73563</td>\n      <td>0.74493</td>\n      <td>0.76539</td>\n      <td>0.76911</td>\n      <td>0.78678</td>\n      <td>0.80445</td>\n      <td>0.84165</td>\n      <td>0.84816</td>\n      <td>0.83049</td>\n      <td>...</td>\n      <td>0.715801</td>\n      <td>0.667248</td>\n      <td>0.640179</td>\n      <td>0.632274</td>\n      <td>0.622330</td>\n      <td>0.458240</td>\n      <td>0.560000</td>\n      <td>0.568000</td>\n      <td>0.597800</td>\n      <td>0.641507</td>\n    </tr>\n    <tr>\n      <th>458</th>\n      <td>2.74500</td>\n      <td>3.11900</td>\n      <td>2.88800</td>\n      <td>2.99900</td>\n      <td>3.14400</td>\n      <td>3.14500</td>\n      <td>3.28200</td>\n      <td>3.46400</td>\n      <td>3.72200</td>\n      <td>3.60100</td>\n      <td>...</td>\n      <td>9.868760</td>\n      <td>9.977760</td>\n      <td>10.336840</td>\n      <td>10.792600</td>\n      <td>11.396420</td>\n      <td>11.098889</td>\n      <td>11.768859</td>\n      <td>11.713604</td>\n      <td>11.780227</td>\n      <td>13.613773</td>\n    </tr>\n    <tr>\n      <th>459</th>\n      <td>26.83700</td>\n      <td>32.28400</td>\n      <td>32.12300</td>\n      <td>35.13900</td>\n      <td>37.22900</td>\n      <td>39.39700</td>\n      <td>39.75300</td>\n      <td>42.96500</td>\n      <td>47.08700</td>\n      <td>46.13200</td>\n      <td>...</td>\n      <td>93.878300</td>\n      <td>95.128100</td>\n      <td>56.786060</td>\n      <td>77.841680</td>\n      <td>70.021360</td>\n      <td>67.901917</td>\n      <td>65.258054</td>\n      <td>56.532821</td>\n      <td>70.479458</td>\n      <td>71.047664</td>\n    </tr>\n  </tbody>\n</table>\n<p>230 rows × 42 columns</p>\n</div>"
     },
     "execution_count": 15,
     "metadata": {},
     "output_type": "execute_result"
    }
   ],
   "source": [
    "# Ensure that numeric data is actually processed as such\n",
    "# (It currently seems to be getting string parsed because\n",
    "# of the -- that appears in some rows even after correction.)\n",
    "pruned_frame = pruned_frame.apply(pd.to_numeric, errors='coerce')\n",
    "\n",
    "# Empty cell - missing data\n",
    "pruned_frame = pruned_frame.fillna(0)\n",
    "\n",
    "# Frame should match above but be forced into float64 columns\n",
    "pruned_frame"
   ],
   "metadata": {
    "collapsed": false,
    "ExecuteTime": {
     "end_time": "2023-12-16T00:46:16.061824800Z",
     "start_time": "2023-12-16T00:46:16.014694100Z"
    }
   },
   "id": "673113ba89e68a2b"
  },
  {
   "cell_type": "code",
   "execution_count": 16,
   "outputs": [
    {
     "data": {
      "text/plain": "                 0\n1980   7323.372305\n1981   7410.429118\n1982   7569.413689\n1983   7872.425977\n1984   8361.737720\n1985   8662.099349\n1986   8888.361763\n1987   9278.659622\n1988   9699.463799\n1989  10131.936808\n1990  10401.815973\n1991  10607.676618\n1992  10673.913201\n1993  10881.533919\n1994  11132.100834\n1995  11506.576041\n1996  11838.241473\n1997  12154.359114\n1998  12449.240873\n1999  12713.208131\n2000  13260.454502\n2001  13516.487704\n2002  13969.470793\n2003  14485.847329\n2004  15157.881979\n2005  15753.236376\n2006  16438.213771\n2007  17205.119808\n2008  17481.786007\n2009  17439.901358\n2010  18752.553064\n2011  19443.761736\n2012  19923.466554\n2013  20578.436294\n2014  20986.463502\n2015  21405.428470\n2016  22027.454839\n2017  22721.656237\n2018  23536.389654\n2019  23921.422762\n2020  23965.641286\n2021  25342.804899",
      "text/html": "<div>\n<style scoped>\n    .dataframe tbody tr th:only-of-type {\n        vertical-align: middle;\n    }\n\n    .dataframe tbody tr th {\n        vertical-align: top;\n    }\n\n    .dataframe thead th {\n        text-align: right;\n    }\n</style>\n<table border=\"1\" class=\"dataframe\">\n  <thead>\n    <tr style=\"text-align: right;\">\n      <th></th>\n      <th>0</th>\n    </tr>\n  </thead>\n  <tbody>\n    <tr>\n      <th>1980</th>\n      <td>7323.372305</td>\n    </tr>\n    <tr>\n      <th>1981</th>\n      <td>7410.429118</td>\n    </tr>\n    <tr>\n      <th>1982</th>\n      <td>7569.413689</td>\n    </tr>\n    <tr>\n      <th>1983</th>\n      <td>7872.425977</td>\n    </tr>\n    <tr>\n      <th>1984</th>\n      <td>8361.737720</td>\n    </tr>\n    <tr>\n      <th>1985</th>\n      <td>8662.099349</td>\n    </tr>\n    <tr>\n      <th>1986</th>\n      <td>8888.361763</td>\n    </tr>\n    <tr>\n      <th>1987</th>\n      <td>9278.659622</td>\n    </tr>\n    <tr>\n      <th>1988</th>\n      <td>9699.463799</td>\n    </tr>\n    <tr>\n      <th>1989</th>\n      <td>10131.936808</td>\n    </tr>\n    <tr>\n      <th>1990</th>\n      <td>10401.815973</td>\n    </tr>\n    <tr>\n      <th>1991</th>\n      <td>10607.676618</td>\n    </tr>\n    <tr>\n      <th>1992</th>\n      <td>10673.913201</td>\n    </tr>\n    <tr>\n      <th>1993</th>\n      <td>10881.533919</td>\n    </tr>\n    <tr>\n      <th>1994</th>\n      <td>11132.100834</td>\n    </tr>\n    <tr>\n      <th>1995</th>\n      <td>11506.576041</td>\n    </tr>\n    <tr>\n      <th>1996</th>\n      <td>11838.241473</td>\n    </tr>\n    <tr>\n      <th>1997</th>\n      <td>12154.359114</td>\n    </tr>\n    <tr>\n      <th>1998</th>\n      <td>12449.240873</td>\n    </tr>\n    <tr>\n      <th>1999</th>\n      <td>12713.208131</td>\n    </tr>\n    <tr>\n      <th>2000</th>\n      <td>13260.454502</td>\n    </tr>\n    <tr>\n      <th>2001</th>\n      <td>13516.487704</td>\n    </tr>\n    <tr>\n      <th>2002</th>\n      <td>13969.470793</td>\n    </tr>\n    <tr>\n      <th>2003</th>\n      <td>14485.847329</td>\n    </tr>\n    <tr>\n      <th>2004</th>\n      <td>15157.881979</td>\n    </tr>\n    <tr>\n      <th>2005</th>\n      <td>15753.236376</td>\n    </tr>\n    <tr>\n      <th>2006</th>\n      <td>16438.213771</td>\n    </tr>\n    <tr>\n      <th>2007</th>\n      <td>17205.119808</td>\n    </tr>\n    <tr>\n      <th>2008</th>\n      <td>17481.786007</td>\n    </tr>\n    <tr>\n      <th>2009</th>\n      <td>17439.901358</td>\n    </tr>\n    <tr>\n      <th>2010</th>\n      <td>18752.553064</td>\n    </tr>\n    <tr>\n      <th>2011</th>\n      <td>19443.761736</td>\n    </tr>\n    <tr>\n      <th>2012</th>\n      <td>19923.466554</td>\n    </tr>\n    <tr>\n      <th>2013</th>\n      <td>20578.436294</td>\n    </tr>\n    <tr>\n      <th>2014</th>\n      <td>20986.463502</td>\n    </tr>\n    <tr>\n      <th>2015</th>\n      <td>21405.428470</td>\n    </tr>\n    <tr>\n      <th>2016</th>\n      <td>22027.454839</td>\n    </tr>\n    <tr>\n      <th>2017</th>\n      <td>22721.656237</td>\n    </tr>\n    <tr>\n      <th>2018</th>\n      <td>23536.389654</td>\n    </tr>\n    <tr>\n      <th>2019</th>\n      <td>23921.422762</td>\n    </tr>\n    <tr>\n      <th>2020</th>\n      <td>23965.641286</td>\n    </tr>\n    <tr>\n      <th>2021</th>\n      <td>25342.804899</td>\n    </tr>\n  </tbody>\n</table>\n</div>"
     },
     "execution_count": 16,
     "metadata": {},
     "output_type": "execute_result"
    }
   ],
   "source": [
    "global_frame = pd.DataFrame(pruned_frame.sum(axis='rows'))\n",
    "\n",
    "global_frame"
   ],
   "metadata": {
    "collapsed": false,
    "ExecuteTime": {
     "end_time": "2023-12-16T00:46:16.087769500Z",
     "start_time": "2023-12-16T00:46:16.026414300Z"
    }
   },
   "id": "4a409ea1d6d4362c"
  },
  {
   "cell_type": "code",
   "execution_count": 17,
   "outputs": [
    {
     "data": {
      "text/plain": "             0\n1980  0.000000\n1981  0.004831\n1982  0.013654\n1983  0.030470\n1984  0.057625\n1985  0.074294\n1986  0.086850\n1987  0.108510\n1988  0.131863\n1989  0.155863\n1990  0.170840\n1991  0.182265\n1992  0.185940\n1993  0.197462\n1994  0.211368\n1995  0.232150\n1996  0.250556\n1997  0.268099\n1998  0.284463\n1999  0.299112\n2000  0.329482\n2001  0.343691\n2002  0.368830\n2003  0.397486\n2004  0.434781\n2005  0.467821\n2006  0.505834\n2007  0.548394\n2008  0.563748\n2009  0.561423\n2010  0.634270\n2011  0.672629\n2012  0.699250\n2013  0.735598\n2014  0.758242\n2015  0.781493\n2016  0.816013\n2017  0.854538\n2018  0.899752\n2019  0.921119\n2020  0.923573\n2021  1.000000",
      "text/html": "<div>\n<style scoped>\n    .dataframe tbody tr th:only-of-type {\n        vertical-align: middle;\n    }\n\n    .dataframe tbody tr th {\n        vertical-align: top;\n    }\n\n    .dataframe thead th {\n        text-align: right;\n    }\n</style>\n<table border=\"1\" class=\"dataframe\">\n  <thead>\n    <tr style=\"text-align: right;\">\n      <th></th>\n      <th>0</th>\n    </tr>\n  </thead>\n  <tbody>\n    <tr>\n      <th>1980</th>\n      <td>0.000000</td>\n    </tr>\n    <tr>\n      <th>1981</th>\n      <td>0.004831</td>\n    </tr>\n    <tr>\n      <th>1982</th>\n      <td>0.013654</td>\n    </tr>\n    <tr>\n      <th>1983</th>\n      <td>0.030470</td>\n    </tr>\n    <tr>\n      <th>1984</th>\n      <td>0.057625</td>\n    </tr>\n    <tr>\n      <th>1985</th>\n      <td>0.074294</td>\n    </tr>\n    <tr>\n      <th>1986</th>\n      <td>0.086850</td>\n    </tr>\n    <tr>\n      <th>1987</th>\n      <td>0.108510</td>\n    </tr>\n    <tr>\n      <th>1988</th>\n      <td>0.131863</td>\n    </tr>\n    <tr>\n      <th>1989</th>\n      <td>0.155863</td>\n    </tr>\n    <tr>\n      <th>1990</th>\n      <td>0.170840</td>\n    </tr>\n    <tr>\n      <th>1991</th>\n      <td>0.182265</td>\n    </tr>\n    <tr>\n      <th>1992</th>\n      <td>0.185940</td>\n    </tr>\n    <tr>\n      <th>1993</th>\n      <td>0.197462</td>\n    </tr>\n    <tr>\n      <th>1994</th>\n      <td>0.211368</td>\n    </tr>\n    <tr>\n      <th>1995</th>\n      <td>0.232150</td>\n    </tr>\n    <tr>\n      <th>1996</th>\n      <td>0.250556</td>\n    </tr>\n    <tr>\n      <th>1997</th>\n      <td>0.268099</td>\n    </tr>\n    <tr>\n      <th>1998</th>\n      <td>0.284463</td>\n    </tr>\n    <tr>\n      <th>1999</th>\n      <td>0.299112</td>\n    </tr>\n    <tr>\n      <th>2000</th>\n      <td>0.329482</td>\n    </tr>\n    <tr>\n      <th>2001</th>\n      <td>0.343691</td>\n    </tr>\n    <tr>\n      <th>2002</th>\n      <td>0.368830</td>\n    </tr>\n    <tr>\n      <th>2003</th>\n      <td>0.397486</td>\n    </tr>\n    <tr>\n      <th>2004</th>\n      <td>0.434781</td>\n    </tr>\n    <tr>\n      <th>2005</th>\n      <td>0.467821</td>\n    </tr>\n    <tr>\n      <th>2006</th>\n      <td>0.505834</td>\n    </tr>\n    <tr>\n      <th>2007</th>\n      <td>0.548394</td>\n    </tr>\n    <tr>\n      <th>2008</th>\n      <td>0.563748</td>\n    </tr>\n    <tr>\n      <th>2009</th>\n      <td>0.561423</td>\n    </tr>\n    <tr>\n      <th>2010</th>\n      <td>0.634270</td>\n    </tr>\n    <tr>\n      <th>2011</th>\n      <td>0.672629</td>\n    </tr>\n    <tr>\n      <th>2012</th>\n      <td>0.699250</td>\n    </tr>\n    <tr>\n      <th>2013</th>\n      <td>0.735598</td>\n    </tr>\n    <tr>\n      <th>2014</th>\n      <td>0.758242</td>\n    </tr>\n    <tr>\n      <th>2015</th>\n      <td>0.781493</td>\n    </tr>\n    <tr>\n      <th>2016</th>\n      <td>0.816013</td>\n    </tr>\n    <tr>\n      <th>2017</th>\n      <td>0.854538</td>\n    </tr>\n    <tr>\n      <th>2018</th>\n      <td>0.899752</td>\n    </tr>\n    <tr>\n      <th>2019</th>\n      <td>0.921119</td>\n    </tr>\n    <tr>\n      <th>2020</th>\n      <td>0.923573</td>\n    </tr>\n    <tr>\n      <th>2021</th>\n      <td>1.000000</td>\n    </tr>\n  </tbody>\n</table>\n</div>"
     },
     "execution_count": 17,
     "metadata": {},
     "output_type": "execute_result"
    }
   ],
   "source": [
    "global_frame_normalized = (global_frame - global_frame.min()) / (global_frame.max() - global_frame.min())\n",
    "\n",
    "global_frame_normalized"
   ],
   "metadata": {
    "collapsed": false,
    "ExecuteTime": {
     "end_time": "2023-12-16T00:46:16.091905100Z",
     "start_time": "2023-12-16T00:46:16.029031500Z"
    }
   },
   "id": "dba90409a5acf9a6"
  },
  {
   "cell_type": "markdown",
   "source": [
    "<font size=\"6\">Section 3 - Training and Prediction</font>\\\n",
    "<font size=\"4\">This section is responsible for training the LSTM and rescaling the data for a user-readable output.</font>"
   ],
   "metadata": {
    "collapsed": false
   },
   "id": "37743b847d4e0e3e"
  },
  {
   "cell_type": "code",
   "execution_count": 18,
   "outputs": [
    {
     "name": "stdout",
     "output_type": "stream",
     "text": [
      "Epoch 1/75\n",
      "2/2 [==============================] - 1s 5ms/step - loss: 0.3094\n",
      "Epoch 2/75\n",
      "2/2 [==============================] - 0s 7ms/step - loss: 0.2008\n",
      "Epoch 3/75\n",
      "2/2 [==============================] - 0s 9ms/step - loss: 0.1080\n",
      "Epoch 4/75\n",
      "2/2 [==============================] - 0s 6ms/step - loss: 0.0389\n",
      "Epoch 5/75\n",
      "2/2 [==============================] - 0s 5ms/step - loss: 0.0041\n",
      "Epoch 6/75\n",
      "2/2 [==============================] - 0s 7ms/step - loss: 0.0230\n",
      "Epoch 7/75\n",
      "2/2 [==============================] - 0s 6ms/step - loss: 0.0330\n",
      "Epoch 8/75\n",
      "2/2 [==============================] - 0s 7ms/step - loss: 0.0150\n",
      "Epoch 9/75\n",
      "2/2 [==============================] - 0s 6ms/step - loss: 0.0029\n",
      "Epoch 10/75\n",
      "2/2 [==============================] - 0s 8ms/step - loss: 0.0019\n",
      "Epoch 11/75\n",
      "2/2 [==============================] - 0s 5ms/step - loss: 0.0060\n",
      "Epoch 12/75\n",
      "2/2 [==============================] - 0s 8ms/step - loss: 0.0088\n",
      "Epoch 13/75\n",
      "2/2 [==============================] - 0s 10ms/step - loss: 0.0093\n",
      "Epoch 14/75\n",
      "2/2 [==============================] - 0s 5ms/step - loss: 0.0074\n",
      "Epoch 15/75\n",
      "2/2 [==============================] - 0s 8ms/step - loss: 0.0044\n",
      "Epoch 16/75\n",
      "2/2 [==============================] - 0s 6ms/step - loss: 0.0021\n",
      "Epoch 17/75\n",
      "2/2 [==============================] - 0s 9ms/step - loss: 0.0011\n",
      "Epoch 18/75\n",
      "2/2 [==============================] - 0s 5ms/step - loss: 0.0017\n",
      "Epoch 19/75\n",
      "2/2 [==============================] - 0s 8ms/step - loss: 0.0028\n",
      "Epoch 20/75\n",
      "2/2 [==============================] - 0s 5ms/step - loss: 0.0030\n",
      "Epoch 21/75\n",
      "2/2 [==============================] - 0s 4ms/step - loss: 0.0023\n",
      "Epoch 22/75\n",
      "2/2 [==============================] - 0s 6ms/step - loss: 0.0013\n",
      "Epoch 23/75\n",
      "2/2 [==============================] - 0s 4ms/step - loss: 8.3025e-04\n",
      "Epoch 24/75\n",
      "2/2 [==============================] - 0s 4ms/step - loss: 0.0010\n",
      "Epoch 25/75\n",
      "2/2 [==============================] - 0s 5ms/step - loss: 0.0013\n",
      "Epoch 26/75\n",
      "2/2 [==============================] - 0s 8ms/step - loss: 0.0015\n",
      "Epoch 27/75\n",
      "2/2 [==============================] - 0s 5ms/step - loss: 0.0013\n",
      "Epoch 28/75\n",
      "2/2 [==============================] - 0s 5ms/step - loss: 0.0010\n",
      "Epoch 29/75\n",
      "2/2 [==============================] - 0s 5ms/step - loss: 7.3984e-04\n",
      "Epoch 30/75\n",
      "2/2 [==============================] - 0s 7ms/step - loss: 7.1527e-04\n",
      "Epoch 31/75\n",
      "2/2 [==============================] - 0s 6ms/step - loss: 8.0143e-04\n",
      "Epoch 32/75\n",
      "2/2 [==============================] - 0s 5ms/step - loss: 8.8258e-04\n",
      "Epoch 33/75\n",
      "2/2 [==============================] - 0s 4ms/step - loss: 8.3534e-04\n",
      "Epoch 34/75\n",
      "2/2 [==============================] - 0s 5ms/step - loss: 7.2641e-04\n",
      "Epoch 35/75\n",
      "2/2 [==============================] - 0s 6ms/step - loss: 6.2173e-04\n",
      "Epoch 36/75\n",
      "2/2 [==============================] - 0s 7ms/step - loss: 6.2611e-04\n",
      "Epoch 37/75\n",
      "2/2 [==============================] - 0s 5ms/step - loss: 6.5075e-04\n",
      "Epoch 38/75\n",
      "2/2 [==============================] - 0s 5ms/step - loss: 6.7812e-04\n",
      "Epoch 39/75\n",
      "2/2 [==============================] - 0s 6ms/step - loss: 6.6430e-04\n",
      "Epoch 40/75\n",
      "2/2 [==============================] - 0s 4ms/step - loss: 6.1876e-04\n",
      "Epoch 41/75\n",
      "2/2 [==============================] - 0s 4ms/step - loss: 5.7091e-04\n",
      "Epoch 42/75\n",
      "2/2 [==============================] - 0s 7ms/step - loss: 5.7814e-04\n",
      "Epoch 43/75\n",
      "2/2 [==============================] - 0s 5ms/step - loss: 5.9264e-04\n",
      "Epoch 44/75\n",
      "2/2 [==============================] - 0s 4ms/step - loss: 5.8939e-04\n",
      "Epoch 45/75\n",
      "2/2 [==============================] - 0s 5ms/step - loss: 5.7125e-04\n",
      "Epoch 46/75\n",
      "2/2 [==============================] - 0s 4ms/step - loss: 5.4756e-04\n",
      "Epoch 47/75\n",
      "2/2 [==============================] - 0s 5ms/step - loss: 5.4983e-04\n",
      "Epoch 48/75\n",
      "2/2 [==============================] - 0s 5ms/step - loss: 5.6087e-04\n",
      "Epoch 49/75\n",
      "2/2 [==============================] - 0s 5ms/step - loss: 5.7691e-04\n",
      "Epoch 50/75\n",
      "2/2 [==============================] - 0s 5ms/step - loss: 5.6456e-04\n",
      "Epoch 51/75\n",
      "2/2 [==============================] - 0s 4ms/step - loss: 5.5238e-04\n",
      "Epoch 52/75\n",
      "2/2 [==============================] - 0s 6ms/step - loss: 5.3788e-04\n",
      "Epoch 53/75\n",
      "2/2 [==============================] - 0s 6ms/step - loss: 5.4672e-04\n",
      "Epoch 54/75\n",
      "2/2 [==============================] - 0s 4ms/step - loss: 5.5195e-04\n",
      "Epoch 55/75\n",
      "2/2 [==============================] - 0s 5ms/step - loss: 5.4529e-04\n",
      "Epoch 56/75\n",
      "2/2 [==============================] - 0s 5ms/step - loss: 5.4908e-04\n",
      "Epoch 57/75\n",
      "2/2 [==============================] - 0s 5ms/step - loss: 5.3583e-04\n",
      "Epoch 58/75\n",
      "2/2 [==============================] - 0s 5ms/step - loss: 5.4036e-04\n",
      "Epoch 59/75\n",
      "2/2 [==============================] - 0s 6ms/step - loss: 5.3268e-04\n",
      "Epoch 60/75\n",
      "2/2 [==============================] - 0s 5ms/step - loss: 5.3202e-04\n",
      "Epoch 61/75\n",
      "2/2 [==============================] - 0s 4ms/step - loss: 5.3481e-04\n",
      "Epoch 62/75\n",
      "2/2 [==============================] - 0s 5ms/step - loss: 5.2798e-04\n",
      "Epoch 63/75\n",
      "2/2 [==============================] - 0s 6ms/step - loss: 5.2595e-04\n",
      "Epoch 64/75\n",
      "2/2 [==============================] - 0s 4ms/step - loss: 5.2543e-04\n",
      "Epoch 65/75\n",
      "2/2 [==============================] - 0s 6ms/step - loss: 5.2252e-04\n",
      "Epoch 66/75\n",
      "2/2 [==============================] - 0s 6ms/step - loss: 5.2618e-04\n",
      "Epoch 67/75\n",
      "2/2 [==============================] - 0s 4ms/step - loss: 5.3075e-04\n",
      "Epoch 68/75\n",
      "2/2 [==============================] - 0s 4ms/step - loss: 5.2745e-04\n",
      "Epoch 69/75\n",
      "2/2 [==============================] - 0s 7ms/step - loss: 5.1834e-04\n",
      "Epoch 70/75\n",
      "2/2 [==============================] - 0s 4ms/step - loss: 5.1540e-04\n",
      "Epoch 71/75\n",
      "2/2 [==============================] - 0s 5ms/step - loss: 5.2443e-04\n",
      "Epoch 72/75\n",
      "2/2 [==============================] - 0s 4ms/step - loss: 5.2462e-04\n",
      "Epoch 73/75\n",
      "2/2 [==============================] - 0s 5ms/step - loss: 5.2044e-04\n",
      "Epoch 74/75\n",
      "2/2 [==============================] - 0s 4ms/step - loss: 5.1622e-04\n",
      "Epoch 75/75\n",
      "2/2 [==============================] - 0s 6ms/step - loss: 5.1782e-04\n",
      "1/1 [==============================] - 0s 146ms/step\n",
      "1/1 [==============================] - 0s 10ms/step\n",
      "Global Power Consumption Estimates:\n",
      "2022: 24928.962600186424 billion kWh\n",
      "2023: 25654.94509751822 billion kWh\n"
     ]
    }
   ],
   "source": [
    "# How many years to look back for training\n",
    "look_back = 15\n",
    "\n",
    "# Function to convert an array of values into a dataset matrix\n",
    "def create_dataset(frame, look_back):\n",
    "    consumption = frame[0].tolist()\n",
    "    x = []\n",
    "    y = []\n",
    "    for i in range(len(consumption) - look_back - 1):\n",
    "        x.append(consumption[i:(i + look_back)])\n",
    "        y.append(consumption[i + look_back])\n",
    "    return np.array(x), np.array(y)\n",
    "\n",
    "# Function to rescale normalized data back to original scaling\n",
    "def rescale(normalized_value, frame):\n",
    "    return normalized_value.item() * (frame.max().item() - frame.min().item()) + frame.min().item()\n",
    "\n",
    "# Prepare the data (create sequences, split into train and test)\n",
    "training_x, training_y = create_dataset(global_frame_normalized, look_back)\n",
    "\n",
    "training_x = np.reshape(training_x, (training_x.shape[0], training_x.shape[1], 1))\n",
    "\n",
    "# Build the LSTM model\n",
    "model = Sequential()\n",
    "model.add(LSTM(100, activation='tanh'))\n",
    "model.add(Dense(1))\n",
    "adam = Adam(learning_rate=0.001)\n",
    "model.compile(optimizer=adam, loss='mean_squared_error')\n",
    "\n",
    "# Train the model\n",
    "model.fit(training_x, training_y, epochs=75, batch_size=16)\n",
    "\n",
    "# Predict for 2022 using the last sequence from the training data\n",
    "sequence_2021 = training_x[-1].reshape(1, training_x.shape[1], training_x.shape[2])\n",
    "prediction_2022 = model.predict(sequence_2021).flatten()[0]\n",
    "\n",
    "# Prepare a new sequence for 2023 prediction, including the predicted 2022 value\n",
    "sequence_2022 = np.append(sequence_2021[0, 1:, :], prediction_2022).reshape(1, sequence_2021.shape[1], sequence_2021.shape[2])\n",
    "prediction_2023 = model.predict(sequence_2022).flatten()[0]\n",
    "\n",
    "print(\"Global Power Consumption Estimates:\")\n",
    "print(f\"2022: {rescale(prediction_2022, global_frame)} billion kWh\")\n",
    "print(f\"2023: {rescale(prediction_2023, global_frame)} billion kWh\")"
   ],
   "metadata": {
    "collapsed": false,
    "ExecuteTime": {
     "end_time": "2023-12-16T00:46:18.070718800Z",
     "start_time": "2023-12-16T00:46:16.034798Z"
    }
   },
   "id": "bbab33fa4f378cc"
  }
 ],
 "metadata": {
  "kernelspec": {
   "display_name": "Python 3",
   "language": "python",
   "name": "python3"
  },
  "language_info": {
   "codemirror_mode": {
    "name": "ipython",
    "version": 2
   },
   "file_extension": ".py",
   "mimetype": "text/x-python",
   "name": "python",
   "nbconvert_exporter": "python",
   "pygments_lexer": "ipython2",
   "version": "2.7.6"
  }
 },
 "nbformat": 4,
 "nbformat_minor": 5
}
